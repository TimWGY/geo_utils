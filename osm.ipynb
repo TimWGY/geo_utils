{
 "cells": [
  {
   "cell_type": "code",
   "execution_count": null,
   "id": "4960bf3a-75fa-4543-ae11-75566faf8da6",
   "metadata": {},
   "outputs": [],
   "source": [
    "# Reference: https://github.com/geopandas/geopandas/issues/1816#issuecomment-1003093329\n",
    "# conda install -c conda-forge geopandas pygeos\n",
    "# Reference: https://pyrosm.readthedocs.io/en/latest/installation.html\n",
    "# pip install pyrosm"
   ]
  },
  {
   "cell_type": "code",
   "execution_count": 2,
   "id": "bf43c13d-c5d4-4760-a985-9fe80ef8a3b7",
   "metadata": {},
   "outputs": [],
   "source": [
    "import pandas as pd\n",
    "import numpy as np\n",
    "import re"
   ]
  },
  {
   "cell_type": "code",
   "execution_count": 3,
   "id": "8e20b481-98d0-4dac-b890-caf22cecdbf9",
   "metadata": {},
   "outputs": [],
   "source": [
    "import geopandas as gpd"
   ]
  },
  {
   "cell_type": "markdown",
   "id": "b22d0307-9a39-4ffc-a60c-7212936c22ce",
   "metadata": {},
   "source": [
    "## Data Parsing"
   ]
  },
  {
   "cell_type": "markdown",
   "id": "570dd41d-274b-46cb-b20a-605bed0de403",
   "metadata": {
    "tags": []
   },
   "source": [
    "### OSM Data"
   ]
  },
  {
   "cell_type": "code",
   "execution_count": 4,
   "id": "f8e4d613-b229-45d7-a462-e01cd5464809",
   "metadata": {},
   "outputs": [],
   "source": [
    "import pyrosm\n",
    "from pyrosm.data import sources as get_osm_data_sources\n",
    "from pyrosm import get_data as get_osm_data_as_pbf"
   ]
  },
  {
   "cell_type": "code",
   "execution_count": 5,
   "id": "e74c3155-fb31-46a7-aebc-925028a5d175",
   "metadata": {},
   "outputs": [],
   "source": [
    "fp = get_osm_data_as_pbf(\"Zambia\") # access Jan 19, 2022 # if data of a later date is needed, use parameter to refresh"
   ]
  },
  {
   "cell_type": "code",
   "execution_count": 6,
   "id": "51013a03-89cd-4ee7-89b8-8bf74b674033",
   "metadata": {},
   "outputs": [],
   "source": [
    "osm = pyrosm.OSM(fp)"
   ]
  },
  {
   "cell_type": "code",
   "execution_count": 46,
   "id": "b94803f7-b974-4e03-b55e-a5f8e5c1af57",
   "metadata": {},
   "outputs": [],
   "source": [
    "driving_network = osm.get_network(network_type=\"driving\")\n",
    "\n",
    "# np.round(driving_network.isnull().mean().sort_values(ascending=True),2)\n",
    "\n",
    "# Reference: https://wiki.openstreetmap.org/wiki/Key:highway\n",
    "# major_driving_network = driving_network[driving_network['highway'].isin(['trunk', 'primary', 'secondary', 'tertiary', 'road', 'track', 'trunk_link', 'primary_link', 'secondary_link', 'tertiary_link'])]\n",
    "driving_network = driving_network.dropna(axis=1)\n",
    "driving_network.to_csv('./data/driving_network.csv',index=False)\n",
    "\n",
    "driving_network.head(2)"
   ]
  },
  {
   "cell_type": "code",
   "execution_count": 62,
   "id": "84898072-2d97-4749-be38-5c177fc2ec5c",
   "metadata": {
    "tags": []
   },
   "outputs": [],
   "source": [
    "buildings = osm.get_buildings()\n",
    "\n",
    "# np.round(buildings.isnull().mean().sort_values(ascending=True),5)\n",
    "\n",
    "buildings = buildings.dropna(axis=1)\n",
    "buildings.to_csv('./data/buildings.csv',index=False)\n",
    "\n",
    "buildings.head(2)"
   ]
  },
  {
   "cell_type": "code",
   "execution_count": 64,
   "id": "24cc1f83-a4f9-48c8-8d87-f9084c31dee5",
   "metadata": {},
   "outputs": [
    {
     "name": "stderr",
     "output_type": "stream",
     "text": [
      "/opt/homebrew/Caskroom/miniforge/base/envs/geo_utils_env/lib/python3.9/site-packages/pyrosm/pyrosm.py:576: ShapelyDeprecationWarning: The array interface is deprecated and will no longer work in Shapely 2.0. Convert the '.coords' to a numpy array instead.\n",
      "  gdf = get_poi_data(\n"
     ]
    }
   ],
   "source": [
    "custom_filter = {'amenity': True, \"shop\": True}\n",
    "pois = osm.get_pois(custom_filter=custom_filter)\n",
    "pois[\"poi_type\"] = pois[\"amenity\"].fillna(pois[\"shop\"])"
   ]
  },
  {
   "cell_type": "code",
   "execution_count": 96,
   "id": "ef90cbe7-f35a-4dc3-9849-c8646b9c82b4",
   "metadata": {},
   "outputs": [],
   "source": [
    "# pois['geometry_type'] = pois.geom_type\n",
    "# # pois.loc[pois['lon'].notnull(),'geometry_type'].value_counts()\n",
    "# # pois.loc[pois['lon'].isnull(),'geometry_type'].value_counts()\n",
    "pois['geometry_centroid'] = pois.centroid\n",
    "pois = pois.set_geometry('geometry_centroid', drop=True)"
   ]
  },
  {
   "cell_type": "code",
   "execution_count": 123,
   "id": "86b56b4d-7dc7-4b87-8491-656a4158d7b2",
   "metadata": {},
   "outputs": [],
   "source": [
    "# np.round(pois.isnull().mean().sort_values(ascending=True),5)\n",
    "pois = pois.dropna(axis=1)\n",
    "pois.to_csv('./data/pois.csv', index=False)"
   ]
  },
  {
   "cell_type": "code",
   "execution_count": 129,
   "id": "4d77f78e-d536-4996-b4b5-0815faab2bf1",
   "metadata": {},
   "outputs": [
    {
     "name": "stderr",
     "output_type": "stream",
     "text": [
      "/opt/homebrew/Caskroom/miniforge/base/envs/geo_utils_env/lib/python3.9/site-packages/pyrosm/pyrosm.py:323: ShapelyDeprecationWarning: The array interface is deprecated and will no longer work in Shapely 2.0. Convert the '.coords' to a numpy array instead.\n",
      "  gdf = get_landuse_data(\n"
     ]
    }
   ],
   "source": [
    "landuse = osm.get_landuse()\n",
    "\n",
    "# np.round(landuse.isnull().mean().sort_values(ascending=True),5)\n",
    "landuse = landuse.dropna(axis=1)\n",
    "landuse.to_csv('./data/landuse.csv', index=False)"
   ]
  },
  {
   "cell_type": "code",
   "execution_count": 22,
   "id": "a3377186-c180-475b-8489-e7744b1b210c",
   "metadata": {},
   "outputs": [
    {
     "data": {
      "text/html": [
       "<div>\n",
       "<style scoped>\n",
       "    .dataframe tbody tr th:only-of-type {\n",
       "        vertical-align: middle;\n",
       "    }\n",
       "\n",
       "    .dataframe tbody tr th {\n",
       "        vertical-align: top;\n",
       "    }\n",
       "\n",
       "    .dataframe thead th {\n",
       "        text-align: right;\n",
       "    }\n",
       "</style>\n",
       "<table border=\"1\" class=\"dataframe\">\n",
       "  <thead>\n",
       "    <tr style=\"text-align: right;\">\n",
       "      <th></th>\n",
       "      <th>id</th>\n",
       "      <th>version</th>\n",
       "      <th>timestamp</th>\n",
       "      <th>landuse</th>\n",
       "      <th>geometry</th>\n",
       "      <th>osm_type</th>\n",
       "    </tr>\n",
       "  </thead>\n",
       "  <tbody>\n",
       "    <tr>\n",
       "      <th>0</th>\n",
       "      <td>2776917403</td>\n",
       "      <td>2</td>\n",
       "      <td>1522987582</td>\n",
       "      <td>conservation</td>\n",
       "      <td>POINT (31.704246520996094 -13.202841758728027)</td>\n",
       "      <td>node</td>\n",
       "    </tr>\n",
       "    <tr>\n",
       "      <th>1</th>\n",
       "      <td>3893207581</td>\n",
       "      <td>1</td>\n",
       "      <td>1450176844</td>\n",
       "      <td>plant_nursery</td>\n",
       "      <td>POINT (27.549104690551758 -16.027915954589844)</td>\n",
       "      <td>node</td>\n",
       "    </tr>\n",
       "  </tbody>\n",
       "</table>\n",
       "</div>"
      ],
      "text/plain": [
       "           id  version   timestamp        landuse  \\\n",
       "0  2776917403        2  1522987582   conservation   \n",
       "1  3893207581        1  1450176844  plant_nursery   \n",
       "\n",
       "                                         geometry osm_type  \n",
       "0  POINT (31.704246520996094 -13.202841758728027)     node  \n",
       "1  POINT (27.549104690551758 -16.027915954589844)     node  "
      ]
     },
     "execution_count": 22,
     "metadata": {},
     "output_type": "execute_result"
    }
   ],
   "source": [
    "pd.read_csv('./data/landuse.csv').head(2)"
   ]
  },
  {
   "cell_type": "code",
   "execution_count": 1,
   "id": "31653df7-4ad5-4115-9e3a-37c5f3575b75",
   "metadata": {},
   "outputs": [],
   "source": [
    "# natural = osm.get_natural()\n",
    "## Seems to have out of memory issue with natural layer, worth investigating"
   ]
  },
  {
   "cell_type": "markdown",
   "id": "0086423a-b036-4359-bce6-fd7ae9dd521a",
   "metadata": {
    "tags": []
   },
   "source": [
    "### Facebook Road Data\n",
    "\n",
    "https://github.com/facebookmicrosites/Open-Mapping-At-Facebook/wiki/Available-Countries"
   ]
  },
  {
   "cell_type": "code",
   "execution_count": 5,
   "id": "c21132e9-1bdb-4f02-9e0a-c26addff74a4",
   "metadata": {},
   "outputs": [],
   "source": [
    "gdf = gpd.read_file('./data/ZM_mapwithai_road_data.gpkg')"
   ]
  },
  {
   "cell_type": "code",
   "execution_count": 7,
   "id": "d04a5243-41f8-40ba-aefe-fc2cf79b8d03",
   "metadata": {},
   "outputs": [
    {
     "data": {
      "text/plain": [
       "track             1163592\n",
       "residential        506087\n",
       "unclassified        11204\n",
       "path                 8100\n",
       "service               533\n",
       "tertiary              215\n",
       "footway                92\n",
       "secondary              28\n",
       "trunk                  13\n",
       "primary                 7\n",
       "living_street           3\n",
       "secondary_link          2\n",
       "pedestrian              2\n",
       "primary_link            1\n",
       "trunk_link              1\n",
       "Name: highway_tag, dtype: int64"
      ]
     },
     "execution_count": 7,
     "metadata": {},
     "output_type": "execute_result"
    }
   ],
   "source": [
    "gdf.highway_tag.value_counts()"
   ]
  },
  {
   "cell_type": "code",
   "execution_count": 8,
   "id": "4b3ddf50-69a7-4d4f-8cac-a7692020b785",
   "metadata": {},
   "outputs": [],
   "source": [
    "df = pd.read_csv('./data/driving_network.csv')"
   ]
  },
  {
   "cell_type": "code",
   "execution_count": 13,
   "id": "8783bf2b-7571-4ab8-82fb-c6065506d999",
   "metadata": {},
   "outputs": [
    {
     "data": {
      "text/html": [
       "<div>\n",
       "<style scoped>\n",
       "    .dataframe tbody tr th:only-of-type {\n",
       "        vertical-align: middle;\n",
       "    }\n",
       "\n",
       "    .dataframe tbody tr th {\n",
       "        vertical-align: top;\n",
       "    }\n",
       "\n",
       "    .dataframe thead th {\n",
       "        text-align: right;\n",
       "    }\n",
       "</style>\n",
       "<table border=\"1\" class=\"dataframe\">\n",
       "  <thead>\n",
       "    <tr style=\"text-align: right;\">\n",
       "      <th></th>\n",
       "      <th>facebook</th>\n",
       "      <th>osm</th>\n",
       "    </tr>\n",
       "  </thead>\n",
       "  <tbody>\n",
       "    <tr>\n",
       "      <th>FARM</th>\n",
       "      <td>NaN</td>\n",
       "      <td>1.0</td>\n",
       "    </tr>\n",
       "    <tr>\n",
       "      <th>footway</th>\n",
       "      <td>92.0</td>\n",
       "      <td>1.0</td>\n",
       "    </tr>\n",
       "    <tr>\n",
       "      <th>living_street</th>\n",
       "      <td>3.0</td>\n",
       "      <td>4.0</td>\n",
       "    </tr>\n",
       "    <tr>\n",
       "      <th>path</th>\n",
       "      <td>8100.0</td>\n",
       "      <td>34.0</td>\n",
       "    </tr>\n",
       "    <tr>\n",
       "      <th>pedestrian</th>\n",
       "      <td>2.0</td>\n",
       "      <td>NaN</td>\n",
       "    </tr>\n",
       "    <tr>\n",
       "      <th>primary</th>\n",
       "      <td>7.0</td>\n",
       "      <td>1031.0</td>\n",
       "    </tr>\n",
       "    <tr>\n",
       "      <th>primary_link</th>\n",
       "      <td>1.0</td>\n",
       "      <td>57.0</td>\n",
       "    </tr>\n",
       "    <tr>\n",
       "      <th>residential</th>\n",
       "      <td>506087.0</td>\n",
       "      <td>74041.0</td>\n",
       "    </tr>\n",
       "    <tr>\n",
       "      <th>rest_area</th>\n",
       "      <td>NaN</td>\n",
       "      <td>1.0</td>\n",
       "    </tr>\n",
       "    <tr>\n",
       "      <th>road</th>\n",
       "      <td>NaN</td>\n",
       "      <td>136.0</td>\n",
       "    </tr>\n",
       "    <tr>\n",
       "      <th>secondary</th>\n",
       "      <td>28.0</td>\n",
       "      <td>1397.0</td>\n",
       "    </tr>\n",
       "    <tr>\n",
       "      <th>secondary_link</th>\n",
       "      <td>2.0</td>\n",
       "      <td>48.0</td>\n",
       "    </tr>\n",
       "    <tr>\n",
       "      <th>service</th>\n",
       "      <td>533.0</td>\n",
       "      <td>10906.0</td>\n",
       "    </tr>\n",
       "    <tr>\n",
       "      <th>tertiary</th>\n",
       "      <td>215.0</td>\n",
       "      <td>3873.0</td>\n",
       "    </tr>\n",
       "    <tr>\n",
       "      <th>tertiary_link</th>\n",
       "      <td>NaN</td>\n",
       "      <td>25.0</td>\n",
       "    </tr>\n",
       "    <tr>\n",
       "      <th>track</th>\n",
       "      <td>1163592.0</td>\n",
       "      <td>102.0</td>\n",
       "    </tr>\n",
       "    <tr>\n",
       "      <th>trunk</th>\n",
       "      <td>13.0</td>\n",
       "      <td>785.0</td>\n",
       "    </tr>\n",
       "    <tr>\n",
       "      <th>trunk_link</th>\n",
       "      <td>1.0</td>\n",
       "      <td>62.0</td>\n",
       "    </tr>\n",
       "    <tr>\n",
       "      <th>unclassified</th>\n",
       "      <td>11204.0</td>\n",
       "      <td>39331.0</td>\n",
       "    </tr>\n",
       "  </tbody>\n",
       "</table>\n",
       "</div>"
      ],
      "text/plain": [
       "                 facebook      osm\n",
       "FARM                  NaN      1.0\n",
       "footway              92.0      1.0\n",
       "living_street         3.0      4.0\n",
       "path               8100.0     34.0\n",
       "pedestrian            2.0      NaN\n",
       "primary               7.0   1031.0\n",
       "primary_link          1.0     57.0\n",
       "residential      506087.0  74041.0\n",
       "rest_area             NaN      1.0\n",
       "road                  NaN    136.0\n",
       "secondary            28.0   1397.0\n",
       "secondary_link        2.0     48.0\n",
       "service             533.0  10906.0\n",
       "tertiary            215.0   3873.0\n",
       "tertiary_link         NaN     25.0\n",
       "track           1163592.0    102.0\n",
       "trunk                13.0    785.0\n",
       "trunk_link            1.0     62.0\n",
       "unclassified      11204.0  39331.0"
      ]
     },
     "execution_count": 13,
     "metadata": {},
     "output_type": "execute_result"
    }
   ],
   "source": [
    "network_ pd.merge(gdf.highway_tag.value_counts().rename('facebook'),df.highway.value_counts().rename('osm'), left_index=True, right_index=True, how='outer')"
   ]
  },
  {
   "cell_type": "code",
   "execution_count": null,
   "id": "d50542de-b6d1-4041-a340-8ae77768f404",
   "metadata": {},
   "outputs": [],
   "source": []
  }
 ],
 "metadata": {
  "kernelspec": {
   "display_name": "Python 3 (ipykernel)",
   "language": "python",
   "name": "python3"
  },
  "language_info": {
   "codemirror_mode": {
    "name": "ipython",
    "version": 3
   },
   "file_extension": ".py",
   "mimetype": "text/x-python",
   "name": "python",
   "nbconvert_exporter": "python",
   "pygments_lexer": "ipython3",
   "version": "3.9.9"
  }
 },
 "nbformat": 4,
 "nbformat_minor": 5
}
